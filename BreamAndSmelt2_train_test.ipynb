{
  "nbformat": 4,
  "nbformat_minor": 0,
  "metadata": {
    "colab": {
      "provenance": [],
      "authorship_tag": "ABX9TyPxsBmgIACVyKTjPumq6tUT",
      "include_colab_link": true
    },
    "kernelspec": {
      "name": "python3",
      "display_name": "Python 3"
    },
    "language_info": {
      "name": "python"
    }
  },
  "cells": [
    {
      "cell_type": "markdown",
      "metadata": {
        "id": "view-in-github",
        "colab_type": "text"
      },
      "source": [
        "<a href=\"https://colab.research.google.com/github/blingkey/self-study_ML-DeepLearning/blob/main/BreamAndSmelt2_train_test.ipynb\" target=\"_parent\"><img src=\"https://colab.research.google.com/assets/colab-badge.svg\" alt=\"Open In Colab\"/></a>"
      ]
    },
    {
      "cell_type": "markdown",
      "source": [
        "# A생선이 도미인지 아닌지 판별\n",
        "혼공머신 02-1 훈련 세트와 테스트 세트(p66-86)"
      ],
      "metadata": {
        "id": "u8ZJQ1KdAdCF"
      }
    },
    {
      "cell_type": "markdown",
      "source": [
        "## 1. 훈련 세트와 테스트 세트"
      ],
      "metadata": {
        "id": "jcicO3ecEHEe"
      }
    },
    {
      "cell_type": "code",
      "execution_count": null,
      "metadata": {
        "id": "EMAmOYhrAVDq"
      },
      "outputs": [],
      "source": [
        "# 도미와 빙어의 데이터를 합쳐 하나의 파이썬 리스트로 준비\n",
        "fish_length = [25.4, 26.3, 26.5, 29.0, 29.0, 29.7, 29.7, 30.0, 30.0, 30.7, 31.0, 31.0, \n",
        "                31.5, 32.0, 32.0, 32.0, 33.0, 33.0, 33.5, 33.5, 34.0, 34.0, 34.5, 35.0, \n",
        "                35.0, 35.0, 35.0, 36.0, 36.0, 37.0, 38.5, 38.5, 39.5, 41.0, 41.0, 9.8, \n",
        "                10.5, 10.6, 11.0, 11.2, 11.3, 11.8, 11.8, 12.0, 12.2, 12.4, 13.0, 14.3, 15.0]\n",
        "fish_weight = [242.0, 290.0, 340.0, 363.0, 430.0, 450.0, 500.0, 390.0, 450.0, 500.0, 475.0, 500.0, \n",
        "                500.0, 340.0, 600.0, 600.0, 700.0, 700.0, 610.0, 650.0, 575.0, 685.0, 620.0, 680.0, \n",
        "                700.0, 725.0, 720.0, 714.0, 850.0, 1000.0, 920.0, 955.0, 925.0, 975.0, 950.0, 6.7, \n",
        "                7.5, 7.0, 9.7, 9.8, 8.7, 10.0, 9.9, 9.8, 12.2, 13.4, 12.2, 19.7, 19.9]"
      ]
    },
    {
      "cell_type": "code",
      "source": [
        "# 두 파이썬 리스트를 순회하며, 각 생선의 길이와 무게를 하나의 리스트로 담은 2차원 리스트로 변경\n",
        "fish_data = [[l, w] for l, w in zip(fish_length, fish_weight)]\n",
        "fish_target = [1]*35 + [0]*14"
      ],
      "metadata": {
        "id": "x-ygEnrrA1jr"
      },
      "execution_count": null,
      "outputs": []
    },
    {
      "cell_type": "markdown",
      "source": [
        "하나의 생선 데이터는 '샘플(sample)'\n",
        "\n",
        "도미와 빙어는 각각 35마리, 14마리로 전체 데이터는 49개의 샘플이 있음\n",
        "\n",
        "사용하는 특성은 길이와 무게, 2개\n",
        "\n",
        "데이터의 처음 35개를 train set으로, 나머지 14개를 test set으로 사용"
      ],
      "metadata": {
        "id": "F30nZ76XBipq"
      }
    },
    {
      "cell_type": "code",
      "source": [
        "# 사이킷런의 KNeighborsClasssifier 클래스를 import하고 모델 객체를 생성\n",
        "from sklearn.neighbors import KNeighborsClassifier\n",
        "kn = KNeighborsClassifier()"
      ],
      "metadata": {
        "id": "q8aCLAoOBI5f"
      },
      "execution_count": null,
      "outputs": []
    },
    {
      "cell_type": "markdown",
      "source": [
        "전체 데이터에서 처음 35개 선택\n",
        "\n",
        "리스트처럼 배열의 요소를 선택할 때는 배열의 위치, 즉 인덱스index를 지정"
      ],
      "metadata": {
        "id": "NZhJqzLPCJe9"
      }
    },
    {
      "cell_type": "code",
      "source": [
        "# fish_data의 5번째 샘플을 출력하는 경우\n",
        "print(fish_data[4])"
      ],
      "metadata": {
        "colab": {
          "base_uri": "https://localhost:8080/"
        },
        "id": "xIchCjdeB_ZE",
        "outputId": "d4399fdc-4ea9-4653-f709-57206ef97268"
      },
      "execution_count": null,
      "outputs": [
        {
          "output_type": "stream",
          "name": "stdout",
          "text": [
            "[29.0, 430.0]\n"
          ]
        }
      ]
    },
    {
      "cell_type": "markdown",
      "source": [
        "슬라이싱(slicing) :  콜론(:)을 가운데 두고 인덱스의 범위를 지정하여 여러 개의 원소를 선택"
      ],
      "metadata": {
        "id": "Fco71Z78CiTI"
      }
    },
    {
      "cell_type": "code",
      "source": [
        "# 1~5번째까지의 샘플 선택\n",
        "print(fish_data[0:5])"
      ],
      "metadata": {
        "colab": {
          "base_uri": "https://localhost:8080/"
        },
        "id": "edRRhzTTCatS",
        "outputId": "dc31f202-4f6f-44b5-c976-19b5b3622321"
      },
      "execution_count": null,
      "outputs": [
        {
          "output_type": "stream",
          "name": "stdout",
          "text": [
            "[[25.4, 242.0], [26.3, 290.0], [26.5, 340.0], [29.0, 363.0], [29.0, 430.0]]\n"
          ]
        }
      ]
    },
    {
      "cell_type": "code",
      "source": [
        "print(fish_data[:5])"
      ],
      "metadata": {
        "colab": {
          "base_uri": "https://localhost:8080/"
        },
        "id": "H365CZynCsBp",
        "outputId": "20f83d38-dcf2-4f15-c629-e50c8bc25fc3"
      },
      "execution_count": null,
      "outputs": [
        {
          "output_type": "stream",
          "name": "stdout",
          "text": [
            "[[25.4, 242.0], [26.3, 290.0], [26.5, 340.0], [29.0, 363.0], [29.0, 430.0]]\n"
          ]
        }
      ]
    },
    {
      "cell_type": "code",
      "source": [
        "# 마지막 원소까지 포함할 경우 2번째 인덱스 생략 가능\n",
        "print(fish_data[44:])"
      ],
      "metadata": {
        "colab": {
          "base_uri": "https://localhost:8080/"
        },
        "id": "vCjGc3qrC0bG",
        "outputId": "568190f8-ba27-4db5-ca34-756822c05acb"
      },
      "execution_count": null,
      "outputs": [
        {
          "output_type": "stream",
          "name": "stdout",
          "text": [
            "[[12.2, 12.2], [12.4, 13.4], [13.0, 12.2], [14.3, 19.7], [15.0, 19.9]]\n"
          ]
        }
      ]
    },
    {
      "cell_type": "code",
      "source": [
        "# train set으로 입력값 중 0부터 34번째 인덱스까지 사용\n",
        "train_input = fish_data[:35]\n",
        "# train set으로 타깃값 중 0부터 34번째 인덱스까지 사용\n",
        "train_target = fish_target[:35]\n",
        "# test set으로 입력값 중 35번째부터 마지막 인덱스까지 사용\n",
        "test_input = fish_data[35:]\n",
        "# test set으로 타깃값 중 35번째부터 마지막 인덱스까지 사용\n",
        "test_target = fish_target[35:]"
      ],
      "metadata": {
        "id": "Jz1JDq8mC8sE"
      },
      "execution_count": null,
      "outputs": []
    },
    {
      "cell_type": "code",
      "source": [
        "# train set으로 fit() 메서드를 호출해 모델을 훈련\n",
        "kn = kn.fit(train_input, train_target)\n",
        "# test set으로 score() 메서드를 호출해 평가\n",
        "kn.score(test_input, test_target)"
      ],
      "metadata": {
        "colab": {
          "base_uri": "https://localhost:8080/"
        },
        "id": "FcAEYvZlDg9y",
        "outputId": "36a943b0-e248-454a-9d35-067fb1f6599c"
      },
      "execution_count": null,
      "outputs": [
        {
          "output_type": "execute_result",
          "data": {
            "text/plain": [
              "0.0"
            ]
          },
          "metadata": {},
          "execution_count": 24
        }
      ]
    },
    {
      "cell_type": "markdown",
      "source": [
        "정확도 0 ?!\n",
        "\n",
        "⇒ train하는 데이터와 test set하는 데이터가 골고루 섞여 있지 않아 발생한 문제"
      ],
      "metadata": {
        "id": "odimA9b7EZdB"
      }
    },
    {
      "cell_type": "markdown",
      "source": [
        "## 2. 샘플링 편향(Sampling Bias)\n",
        "\n",
        "샘플링 편향 : 일반적으로 train set와 test set에 샘플이 골고루 섞여 있지 않아 샘플링이 한쪽으로 치우친 경우\n",
        "\n",
        "**-** 특정 종류의 샘플이 과도하게 많은 샘플링 편향을 가지고 있다면 제대로된 지도 학습 모델을 만들 수 없다."
      ],
      "metadata": {
        "id": "Obwpi_u3ELYx"
      }
    },
    {
      "cell_type": "markdown",
      "source": [
        "## 넘파이(numpy)\n",
        "\n",
        "파이썬의 대표적인 배열(array) 라이브러리\n",
        "\n",
        "**-** 고차원의 배열을 손쉽게 만들고 조작할 수 있는 간편한 도구 제공"
      ],
      "metadata": {
        "id": "oH7Z9yc5EBmD"
      }
    },
    {
      "cell_type": "code",
      "source": [
        "# numpy 라이브버리 import\n",
        "import numpy as np"
      ],
      "metadata": {
        "id": "PbQvq2VPDxJ4"
      },
      "execution_count": null,
      "outputs": []
    },
    {
      "cell_type": "code",
      "source": [
        "# 파이썬 리스트 → numpy 배열\n",
        "input_arr = np.array(fish_data)\n",
        "target_arr = np.array(fish_target)"
      ],
      "metadata": {
        "id": "lfVmYuB4FvFB"
      },
      "execution_count": null,
      "outputs": []
    },
    {
      "cell_type": "code",
      "source": [
        "print(input_arr)"
      ],
      "metadata": {
        "colab": {
          "base_uri": "https://localhost:8080/"
        },
        "id": "br90n4ywF4by",
        "outputId": "cf5f863f-930c-4ff3-d1e8-b26820431f5d"
      },
      "execution_count": null,
      "outputs": [
        {
          "output_type": "stream",
          "name": "stdout",
          "text": [
            "[[  25.4  242. ]\n",
            " [  26.3  290. ]\n",
            " [  26.5  340. ]\n",
            " [  29.   363. ]\n",
            " [  29.   430. ]\n",
            " [  29.7  450. ]\n",
            " [  29.7  500. ]\n",
            " [  30.   390. ]\n",
            " [  30.   450. ]\n",
            " [  30.7  500. ]\n",
            " [  31.   475. ]\n",
            " [  31.   500. ]\n",
            " [  31.5  500. ]\n",
            " [  32.   340. ]\n",
            " [  32.   600. ]\n",
            " [  32.   600. ]\n",
            " [  33.   700. ]\n",
            " [  33.   700. ]\n",
            " [  33.5  610. ]\n",
            " [  33.5  650. ]\n",
            " [  34.   575. ]\n",
            " [  34.   685. ]\n",
            " [  34.5  620. ]\n",
            " [  35.   680. ]\n",
            " [  35.   700. ]\n",
            " [  35.   725. ]\n",
            " [  35.   720. ]\n",
            " [  36.   714. ]\n",
            " [  36.   850. ]\n",
            " [  37.  1000. ]\n",
            " [  38.5  920. ]\n",
            " [  38.5  955. ]\n",
            " [  39.5  925. ]\n",
            " [  41.   975. ]\n",
            " [  41.   950. ]\n",
            " [   9.8    6.7]\n",
            " [  10.5    7.5]\n",
            " [  10.6    7. ]\n",
            " [  11.     9.7]\n",
            " [  11.2    9.8]\n",
            " [  11.3    8.7]\n",
            " [  11.8   10. ]\n",
            " [  11.8    9.9]\n",
            " [  12.     9.8]\n",
            " [  12.2   12.2]\n",
            " [  12.4   13.4]\n",
            " [  13.    12.2]\n",
            " [  14.3   19.7]\n",
            " [  15.    19.9]]\n"
          ]
        }
      ]
    },
    {
      "cell_type": "code",
      "source": [
        "# shape() : 배열의 크기 확인 ⇒ (샘플 수, 특성 수) 출력\n",
        "print(input_arr.shape)"
      ],
      "metadata": {
        "colab": {
          "base_uri": "https://localhost:8080/"
        },
        "id": "SSp_DGGiF6jW",
        "outputId": "c4b8b555-ade0-4e66-9eae-187899235390"
      },
      "execution_count": null,
      "outputs": [
        {
          "output_type": "stream",
          "name": "stdout",
          "text": [
            "(49, 2)\n"
          ]
        }
      ]
    },
    {
      "cell_type": "markdown",
      "source": [
        "준비한 numpy 배열에서 랜덤하게 샘플을 선택해 train set과 test set을 생성\n",
        "\n",
        "배열을 섞은 뒤 나누는 방식 대신, 무작위로 샘플 선택하는 방법 사용\n",
        "\n",
        "※ input_arr과 target_arr에서 같은 위치는 함께 선택되어야 한다.\n",
        "\n",
        "```\n",
        "    input_arr       target_arr\n",
        "\n",
        "[[  25.4  242. ]       1           ···> 첫번째 샘플\n",
        "\n",
        "\n",
        " [  26.3  290. ]       1           ···> 두번째 샘플\n",
        "\n",
        " [  26.5  340. ]       1           ···> 세번째 샘플\n",
        "\n",
        "       .               .\n",
        "\n",
        "       .               .\n",
        "\n",
        "       .               .\n",
        "\n",
        " [  15.0  19.9 ]]      0\n",
        "\n",
        "```\n",
        "\n"
      ],
      "metadata": {
        "id": "obtbllMVRbk8"
      }
    },
    {
      "cell_type": "markdown",
      "source": [
        "이렇게 구해진 인덱스를 섞은 뒤에 input_arr와 target_arr에서 샘플을 선택하면 무작위로 train set을 나누는 셈이 된다."
      ],
      "metadata": {
        "id": "J9rFHl1deSw2"
      }
    },
    {
      "cell_type": "code",
      "source": [
        "# arrange(N) : 0 ~ N-1까지 1씩 증가하는 인덱스 생성\n",
        "np.random.seed(42)\n",
        "index =  np.arange(49)\n",
        "np.random.shuffle(index)"
      ],
      "metadata": {
        "id": "dd4rNQOuGES7"
      },
      "execution_count": null,
      "outputs": []
    },
    {
      "cell_type": "code",
      "source": [
        "print(index)"
      ],
      "metadata": {
        "colab": {
          "base_uri": "https://localhost:8080/"
        },
        "id": "BPDtdsuYewKs",
        "outputId": "65dadfd0-60a4-4afb-fc94-30a78ae512eb"
      },
      "execution_count": null,
      "outputs": [
        {
          "output_type": "stream",
          "name": "stdout",
          "text": [
            "[13 45 47 44 17 27 26 25 31 19 12  4 34  8  3  6 40 41 46 15  9 16 24 33\n",
            " 30  0 43 32  5 29 11 36  1 21  2 37 35 23 39 10 22 18 48 20  7 42 14 28\n",
            " 38]\n"
          ]
        }
      ]
    },
    {
      "cell_type": "markdown",
      "source": [
        "섞인 인덱스를 사용해 전체 데이터를 train set과 test set으로 나눈다.\n",
        "\n",
        "- **numpy에서 제공하는 배열 인덱싱(array indexing) 기능**\n",
        "\n",
        "  : 1개의 인덱스가 아닌 여러 개의 인덱스로 한 번에 여러 개의 원소를 선택할 수 있다."
      ],
      "metadata": {
        "id": "O8yoN9zafZoN"
      }
    },
    {
      "cell_type": "code",
      "source": [
        "# input_arr에서 2번째, 4번째 샘플 선택하여 출력\n",
        "print(input_arr[[1,3]])"
      ],
      "metadata": {
        "colab": {
          "base_uri": "https://localhost:8080/"
        },
        "id": "SO7MBwqRfXRt",
        "outputId": "e3b8e6a2-7066-4e8e-c91e-dad2357e3ce5"
      },
      "execution_count": null,
      "outputs": [
        {
          "output_type": "stream",
          "name": "stdout",
          "text": [
            "[[ 26.3 290. ]\n",
            " [ 29.  363. ]]\n"
          ]
        }
      ]
    },
    {
      "cell_type": "code",
      "source": [
        "# index 배열의 처음 35개를 input_arr과 target_arr에 전달하여 랜덤하게 35개의 샘플을 train set으로 생성\n",
        "train_input =  input_arr[index[:35]]\n",
        "train_target = target_arr[index[:35]]"
      ],
      "metadata": {
        "id": "RdGMP2_Tfxik"
      },
      "execution_count": null,
      "outputs": []
    },
    {
      "cell_type": "code",
      "source": [
        "# 만들어진 index의 1번째 값은 13이므로, train_input의 1번째 원소는 input_arr의 14번째 원소가 들어 있음\n",
        "print(input_arr[13], train_input[0])"
      ],
      "metadata": {
        "colab": {
          "base_uri": "https://localhost:8080/"
        },
        "id": "bnB6HCyPgSoH",
        "outputId": "fa24a85e-bc38-4575-e47e-6f4791de3abd"
      },
      "execution_count": null,
      "outputs": [
        {
          "output_type": "stream",
          "name": "stdout",
          "text": [
            "[ 32. 340.] [ 32. 340.]\n"
          ]
        }
      ]
    },
    {
      "cell_type": "code",
      "source": [
        "# 나머지 14개를 test set으로 생성\n",
        "test_input = input_arr[index[35:]]\n",
        "test_target = target_arr[index[35:]]"
      ],
      "metadata": {
        "id": "hz5fAXLlgkL3"
      },
      "execution_count": null,
      "outputs": []
    },
    {
      "cell_type": "code",
      "source": [
        "import matplotlib.pyplot as plt\n",
        "plt.scatter(train_input[:,0], train_input[:,1])\n",
        "plt.scatter(test_input[:,0], test_input[:,1])\n",
        "plt.xlabel('length')\n",
        "plt.ylabel('weight')\n",
        "plt.show()"
      ],
      "metadata": {
        "colab": {
          "base_uri": "https://localhost:8080/",
          "height": 279
        },
        "id": "aWBbeTmRgwER",
        "outputId": "6350049c-221b-4a08-a9f4-dac830480966"
      },
      "execution_count": null,
      "outputs": [
        {
          "output_type": "display_data",
          "data": {
            "text/plain": [
              "<Figure size 432x288 with 1 Axes>"
            ],
            "image/png": "[encoded data removed]"
          },
          "metadata": {
            "needs_background": "light"
          }
        }
      ]
    },
    {
      "cell_type": "markdown",
      "source": [
        "→ 파랑색: train set, 주황색 : test set"
      ],
      "metadata": {
        "id": "veih_AmQhGQW"
      }
    },
    {
      "cell_type": "code",
      "source": [
        "# KNeighborsClassifier 클래스 객체 생성\n",
        "kn = kn.fit(train_input, train_target)"
      ],
      "metadata": {
        "id": "6hkmsliBhDVl"
      },
      "execution_count": null,
      "outputs": []
    },
    {
      "cell_type": "code",
      "source": [
        "# train된 모델을 테스트\n",
        "kn.score(test_input, test_target)"
      ],
      "metadata": {
        "colab": {
          "base_uri": "https://localhost:8080/"
        },
        "id": "2Zso7BBhhSp_",
        "outputId": "78b16b86-6184-456b-ba59-f097d04895be"
      },
      "execution_count": null,
      "outputs": [
        {
          "output_type": "execute_result",
          "data": {
            "text/plain": [
              "1.0"
            ]
          },
          "metadata": {},
          "execution_count": 42
        }
      ]
    },
    {
      "cell_type": "code",
      "source": [
        "# test set의 예측 결과와 실제 타킷을 확인\n",
        "kn.predict(test_input)"
      ],
      "metadata": {
        "colab": {
          "base_uri": "https://localhost:8080/"
        },
        "id": "qccyCaAGhir3",
        "outputId": "2540eeef-a95d-48bc-9f66-5e8f421560fb"
      },
      "execution_count": null,
      "outputs": [
        {
          "output_type": "execute_result",
          "data": {
            "text/plain": [
              "array([0, 0, 1, 0, 1, 1, 1, 0, 1, 1, 0, 1, 1, 0])"
            ]
          },
          "metadata": {},
          "execution_count": 43
        }
      ]
    },
    {
      "cell_type": "code",
      "source": [
        "test_target"
      ],
      "metadata": {
        "colab": {
          "base_uri": "https://localhost:8080/"
        },
        "id": "D-F7BU-uhqix",
        "outputId": "dbe881ee-4ec8-443c-d2ac-2948728643c1"
      },
      "execution_count": null,
      "outputs": [
        {
          "output_type": "execute_result",
          "data": {
            "text/plain": [
              "array([0, 0, 1, 0, 1, 1, 1, 0, 1, 1, 0, 1, 1, 0])"
            ]
          },
          "metadata": {},
          "execution_count": 44
        }
      ]
    },
    {
      "cell_type": "markdown",
      "source": [
        "array()로 감싸 있는 값은 numpy 배열을 의미\n",
        "\n",
        "즉, predict() 메서드가 반환하는 값은 파이썬 리스트(X) numpy 배열(O)\n",
        "\n",
        "사이킷런 모델의 입력과 출력은 모두 numpy 배열"
      ],
      "metadata": {
        "id": "itXzu0eshwSa"
      }
    }
  ]
}