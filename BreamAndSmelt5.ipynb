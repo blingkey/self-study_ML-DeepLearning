{
  "nbformat": 4,
  "nbformat_minor": 0,
  "metadata": {
    "colab": {
      "provenance": [],
      "authorship_tag": "ABX9TyP+Wdj6m/6Y7rsncrvr9NDG",
      "include_colab_link": true
    },
    "kernelspec": {
      "name": "python3",
      "display_name": "Python 3"
    },
    "language_info": {
      "name": "python"
    },
    "accelerator": "GPU",
    "gpuClass": "standard"
  },
  "cells": [
    {
      "cell_type": "markdown",
      "metadata": {
        "id": "view-in-github",
        "colab_type": "text"
      },
      "source": [
        "<a href=\"https://colab.research.google.com/github/blingkey/self-study_ML-DeepLearning/blob/main/BreamAndSmelt5.ipynb\" target=\"_parent\"><img src=\"https://colab.research.google.com/assets/colab-badge.svg\" alt=\"Open In Colab\"/></a>"
      ]
    },
    {
      "cell_type": "markdown",
      "source": [
        "# A생선이 도미인지 아닌지 판별\n",
        "혼공머신 03-2 선형회귀(p130-149)  \n",
        "\n",
        "**k-최근접 이웃 회귀**를 사용해서 농어의 무게를 예측했을 때 발생하는 **문제**  \n",
        "train set 범위 밖의 샘플을 예측할 수 없다.  \n",
        "∵ k-최근접 이웃 회귀는 아무리 멀리 떨어져 있더라도 무조건 가장 가까운 샘플의 타깃을 평균하여 예측  \n",
        "∴ **선형 회귀(LinearRegression 클래스)** 사용하여 모델 훈련, 예측 "
      ],
      "metadata": {
        "id": "qyicECyLS1Uf"
      }
    },
    {
      "cell_type": "markdown",
      "source": [
        "## 1. k-최근접 이웃의 한계"
      ],
      "metadata": {
        "id": "DIhXBvrfXtfQ"
      }
    },
    {
      "cell_type": "code",
      "execution_count": 1,
      "metadata": {
        "id": "AZWgdACQSwJy"
      },
      "outputs": [],
      "source": [
        "import numpy as np\n",
        "\n",
        "perch_length = np.array([8.4, 13.7, 15.0, 16.2, 17.4, 18.0, 18.7, 19.0, 19.6, 20.0, 21.0,\n",
        "       21.0, 21.0, 21.3, 22.0, 22.0, 22.0, 22.0, 22.0, 22.5, 22.5, 22.7,\n",
        "       23.0, 23.5, 24.0, 24.0, 24.6, 25.0, 25.6, 26.5, 27.3, 27.5, 27.5,\n",
        "       27.5, 28.0, 28.7, 30.0, 32.8, 34.5, 35.0, 36.5, 36.0, 37.0, 37.0,\n",
        "       39.0, 39.0, 39.0, 40.0, 40.0, 40.0, 40.0, 42.0, 43.0, 43.0, 43.5,\n",
        "       44.0])\n",
        "perch_weight = np.array([5.9, 32.0, 40.0, 51.5, 70.0, 100.0, 78.0, 80.0, 85.0, 85.0, 110.0,\n",
        "       115.0, 125.0, 130.0, 120.0, 120.0, 130.0, 135.0, 110.0, 130.0,\n",
        "       150.0, 145.0, 150.0, 170.0, 225.0, 145.0, 188.0, 180.0, 197.0,\n",
        "       218.0, 300.0, 260.0, 265.0, 250.0, 250.0, 300.0, 320.0, 514.0,\n",
        "       556.0, 840.0, 685.0, 700.0, 700.0, 690.0, 900.0, 650.0, 820.0,\n",
        "       850.0, 900.0, 1015.0, 820.0, 1100.0, 1000.0, 1100.0, 1000.0,\n",
        "       1000.0])"
      ]
    },
    {
      "cell_type": "code",
      "source": [
        "# 데이터를 train set과 test set으로 나눈다.\n",
        "# 특성 데이터는 2차열 배열로 변환\n",
        "\n",
        "from sklearn.model_selection import train_test_split\n",
        "\n",
        "# train set과 test set으로 나눈다.\n",
        "train_input, test_input, train_target, test_target = train_test_split(\n",
        "    perch_length, perch_weight, random_state=42\n",
        ")\n",
        " \n",
        "# train set과 test set를 2차원 배열로 변환\n",
        "train_input = train_input.reshape(-1, 1)\n",
        "test_input = test_input.reshape(-1, 1)"
      ],
      "metadata": {
        "id": "k2OLrfSQS1D2"
      },
      "execution_count": 16,
      "outputs": []
    },
    {
      "cell_type": "code",
      "source": [
        "# 최근접 이웃을 3개로 설정\n",
        "from sklearn.neighbors import KNeighborsRegressor\n",
        "\n",
        "knr = KNeighborsRegressor(n_neighbors=3)\n",
        "\n",
        "# k-최근접 이웃 회귀 모델을 훈련\n",
        "knr.fit(train_input, train_target)"
      ],
      "metadata": {
        "colab": {
          "base_uri": "https://localhost:8080/"
        },
        "id": "-i8TTN6iTi5A",
        "outputId": "f14105ca-4366-41c1-89a8-17ad56f9c796"
      },
      "execution_count": 17,
      "outputs": [
        {
          "output_type": "execute_result",
          "data": {
            "text/plain": [
              "KNeighborsRegressor(n_neighbors=3)"
            ]
          },
          "metadata": {},
          "execution_count": 17
        }
      ]
    },
    {
      "cell_type": "code",
      "source": [
        "# 위의 모델을 사용해 길이가 50cm인 농어의 무게 예측\n",
        "print(knr.predict([[50]]))"
      ],
      "metadata": {
        "colab": {
          "base_uri": "https://localhost:8080/"
        },
        "id": "ii1P-yzJT9jA",
        "outputId": "888db16c-6e70-4729-cebe-2f8137fc0353"
      },
      "execution_count": 18,
      "outputs": [
        {
          "output_type": "stream",
          "name": "stdout",
          "text": [
            "[1033.33333333]\n"
          ]
        }
      ]
    },
    {
      "cell_type": "markdown",
      "source": [
        "모델은 50cm 농어의 무게를 1,033g 정도로 예측했다. 하지만 실제 농어의 무게는 훨씬 더 많이 나간다.  \n",
        "문제가 생긴 이유는?"
      ],
      "metadata": {
        "id": "JkNoEVLWUIKU"
      }
    },
    {
      "cell_type": "code",
      "source": [
        "# train set과 50cm 농어의 최근접 이웃을 산점도에 표시\n",
        "# k-최근접 이웃 모델의 kneighbors() 메서드를 사용하여 가장 가까운 이웃까지의 거리와 이웃 샘플의 인덱스를 얻는다.\n",
        "\n",
        "import matplotlib.pyplot as plt\n",
        "\n",
        "# 50cm 농어의 이웃을 구한다.\n",
        "distances, indexes = knr.kneighbors([[50]])\n",
        "\n",
        "# train set의 산점도를 그린다.\n",
        "plt.scatter(train_input, train_target)\n",
        "\n",
        "# train set 중에서 이웃 샘플만 다시 그린다.\n",
        "plt.scatter(train_input[indexes], train_target[indexes], marker='D')\n",
        "\n",
        "# 50cm 농어 데이터\n",
        "plt.scatter(50, 1033, marker='^')\n",
        "plt.show()"
      ],
      "metadata": {
        "colab": {
          "base_uri": "https://localhost:8080/",
          "height": 265
        },
        "id": "xGGHA2JDUFty",
        "outputId": "6fc91f18-36f3-4f35-8045-181c7f9ee861"
      },
      "execution_count": 19,
      "outputs": [
        {
          "output_type": "display_data",
          "data": {
            "text/plain": [
              "<Figure size 432x288 with 1 Axes>"
            ],
            "image/png": "[encoded data removed]"
          },
          "metadata": {
            "needs_background": "light"
          }
        }
      ]
    },
    {
      "cell_type": "markdown",
      "source": [
        "길이가 50cm이고 무게가 1,033g인 농어는 '초록 삼각형'으로 표시되고 그 주변의 샘플은 '주황 다이아몬드'로 표시  \n",
        "산점도를 보면 길이가 커질수록 농어의 무게가 증가하는 경향이 있다.  \n",
        "50cm 농어에서 가장 가까운 것은 45cm 근방이므로 k-최근접 이웃 알고리즘은 이 샘플들의 무게를 평균한다."
      ],
      "metadata": {
        "id": "ByFkAIlVVFAM"
      }
    },
    {
      "cell_type": "code",
      "source": [
        "# 이웃 샘플들의 타깃의 평균\n",
        "print(np.mean(train_target[indexes]))"
      ],
      "metadata": {
        "colab": {
          "base_uri": "https://localhost:8080/"
        },
        "id": "do8tVATGUui-",
        "outputId": "e445ede4-a3d6-4873-c169-0a9ee1201c9f"
      },
      "execution_count": 20,
      "outputs": [
        {
          "output_type": "stream",
          "name": "stdout",
          "text": [
            "1033.3333333333333\n"
          ]
        }
      ]
    },
    {
      "cell_type": "markdown",
      "source": [
        "모델이 예측했던 값과 정확하게 일치한다.  \n",
        "k-최근접 이웃 회귀는 가장 가까운 샘플을 찾아 타깃을 평균한다.  \n",
        "따라서 새로운 샘플이 train set의 범위를 벗어나면 엉뚱한 값을 예측할 수 있다.  \n",
        "ex. 길이가 100cm인 농어도 여전히 1,033g으로 예측하는 오류를 범한다."
      ],
      "metadata": {
        "id": "LEogQGv3Vn4u"
      }
    },
    {
      "cell_type": "code",
      "source": [
        "print(knr.predict([[100]]))"
      ],
      "metadata": {
        "colab": {
          "base_uri": "https://localhost:8080/"
        },
        "id": "f4XU1bsHVlre",
        "outputId": "d8bad98b-3ff2-4b83-abdf-b6abebec9eb9"
      },
      "execution_count": 21,
      "outputs": [
        {
          "output_type": "stream",
          "name": "stdout",
          "text": [
            "[1033.33333333]\n"
          ]
        }
      ]
    },
    {
      "cell_type": "code",
      "source": [
        "# 100cm 농어의 이웃을 구한다\n",
        "distances, indexes = knr.kneighbors([[100]])\n",
        "\n",
        "# train set의 산점도를 그린다\n",
        "plt.scatter(train_input, train_target)\n",
        "\n",
        "# train set 중에서 이웃 샘플만 다시 그린다\n",
        "plt.scatter(train_input[indexes], train_target[indexes], marker='D')\n",
        "\n",
        "# 100cm 농어 데이터\n",
        "plt.scatter(100, 1033, marker='^')\n",
        "plt.show()"
      ],
      "metadata": {
        "colab": {
          "base_uri": "https://localhost:8080/",
          "height": 265
        },
        "id": "6cxsxHPYV_kb",
        "outputId": "43ba4add-9d75-47b3-9e98-2fddf6c1e726"
      },
      "execution_count": 22,
      "outputs": [
        {
          "output_type": "display_data",
          "data": {
            "text/plain": [
              "<Figure size 432x288 with 1 Axes>"
            ],
            "image/png": "[encoded data removed]"
          },
          "metadata": {
            "needs_background": "light"
          }
        }
      ]
    },
    {
      "cell_type": "markdown",
      "source": [
        "이런 상황이라면 농어가 아무리 커도 무게가 더 늘어나지 않는다!  \n",
        "k-최근접 이웃을 사용해 이 문제를 해결하려면 가장 큰 농어가 포함되도록 train set을 다시 만들어야 한다."
      ],
      "metadata": {
        "id": "G5UBEdcCWWtR"
      }
    },
    {
      "cell_type": "markdown",
      "source": [
        "* 머신러닝 모델을 주기적으로 훈련해야 한다.  \n",
        "머신러닝 모델은 한 번 만들고 끝나는 프로그램이 아니다.  \n",
        "시간과 환경이 변화하면서 데이터도 바뀌기 때문에 주기적으로 새로운 훈련 데이터로 모델을 다시 훈련해야 한다."
      ],
      "metadata": {
        "id": "LSPWswhuWbrc"
      }
    },
    {
      "cell_type": "markdown",
      "source": [
        "## 2. 선형 회귀(liner regression)  \n",
        "대표적인 회귀 알고리즘  \n",
        "특성이 하나인 경우 어떤 직선을 학습하는 알고리즘  \n",
        "(어떤 직선? 특성을 가장 잘 나타낼 수 있는 직선!)\n"
      ],
      "metadata": {
        "id": "2z4sGZGcXni9"
      }
    },
    {
      "cell_type": "markdown",
      "source": [
        "### LinearRegression 클래스"
      ],
      "metadata": {
        "id": "2DzmbbluYRmi"
      }
    },
    {
      "cell_type": "code",
      "source": [
        "from sklearn.linear_model import LinearRegression\n",
        "lr = LinearRegression()\n",
        "\n",
        "# 선형 회귀 모델을 훈련\n",
        "lr.fit(train_input, train_target)\n",
        "\n",
        "# 50cm 농어에 대해 예측\n",
        "print(lr.predict([[50]]))"
      ],
      "metadata": {
        "colab": {
          "base_uri": "https://localhost:8080/"
        },
        "id": "WcHDdcIMWUSo",
        "outputId": "4d61f55e-c6f2-43d3-dc80-4c785883852a"
      },
      "execution_count": 24,
      "outputs": [
        {
          "output_type": "stream",
          "name": "stdout",
          "text": [
            "[1241.83860323]\n"
          ]
        }
      ]
    },
    {
      "cell_type": "markdown",
      "source": [
        "k-최근접 이웃 회귀를 사용했을 때보다 선형 회귀가 무게를 아주 높게 예측했다.  \n",
        "어떻게 이런 값이 나왔을까?"
      ],
      "metadata": {
        "id": "ux1JDFx1YrvI"
      }
    },
    {
      "cell_type": "markdown",
      "source": [
        "LinearRegression 클래스는 데이터에 가장 잘 맞는 a, b 값을 찾는다.  \n",
        "LinearRegression 클래스가 찾은 a와 b는 lr 객체의 coef_와 intercept_속성에 저장되어 있다.  \n",
        "기울기 = 계수(coefficient) = 가중치(weight)  \n",
        "![image.png](data:image/png;base64,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)"
      ],
      "metadata": {
        "id": "2FMBdQCCaA2A"
      }
    },
    {
      "cell_type": "code",
      "source": [
        "print(lr.coef_, lr.intercept_)"
      ],
      "metadata": {
        "colab": {
          "base_uri": "https://localhost:8080/"
        },
        "id": "AOktRB4ZYiNr",
        "outputId": "5b282e24-f7dd-4b10-a9f1-d59714527582"
      },
      "execution_count": 25,
      "outputs": [
        {
          "output_type": "stream",
          "name": "stdout",
          "text": [
            "[39.01714496] -709.0186449535477\n"
          ]
        }
      ]
    },
    {
      "cell_type": "markdown",
      "source": [
        "### **모델 파라미터(model parameter)**\n",
        "coef_와 intercept_를 머신러닝 알고리즘이 찾은 값이라는 뜻으로 모델 파라미터라고 부른다.  \n",
        "- **모델 기반 학습**  \n",
        "머신러닝 알고리즘의 훈련 과정은 최적의 모델 파라미터를 찾는 것과 같다.  \n",
        "- **사례 기반 학습**  \n",
        "train set을 저장하는 것이 훈련의 전부인 경우"
      ],
      "metadata": {
        "id": "cW2OaK6aap0U"
      }
    },
    {
      "cell_type": "code",
      "source": [
        "# train set의 산점도 그리기\n",
        "plt.scatter(train_input, train_target)\n",
        "\n",
        "# 농어의 길이 15에서 50까지 직선으로 그리기 \n",
        "# (15, 15*39-709)와 (50, 50*39-709) 두 점을 잇는다.\n",
        "plt.plot([15, 50], [15*lr.coef_+lr.intercept_, 50*lr.coef_+lr.intercept_])\n",
        "\n",
        "# 50cm 농어 데이터\n",
        "plt.scatter(50, 1241.8, marker='^')\n",
        "plt.show()"
      ],
      "metadata": {
        "colab": {
          "base_uri": "https://localhost:8080/",
          "height": 265
        },
        "id": "4dw6Vfycacdo",
        "outputId": "ff9a0a40-1155-47de-910a-e07e846e58fc"
      },
      "execution_count": 26,
      "outputs": [
        {
          "output_type": "display_data",
          "data": {
            "text/plain": [
              "<Figure size 432x288 with 1 Axes>"
            ],
            "image/png": "[encoded data removed]"
          },
          "metadata": {
            "needs_background": "light"
          }
        }
      ]
    },
    {
      "cell_type": "markdown",
      "source": [
        "위의 직선이 선형 회귀 알고리즘이 이 데이터셋에서 찾은 최적의 직선이다.  \n",
        "길이가 50cm인 농어에 대한 예측은 직선의 연장선 상에 있다.\n",
        "\n",
        "성공!"
      ],
      "metadata": {
        "id": "z7EYDv5cilCv"
      }
    },
    {
      "cell_type": "code",
      "source": [
        "# test set, train set에 대한 R^2 점수 확인\n",
        "print(lr.score(train_input, train_target))\n",
        "print(lr.score(test_input, test_target))"
      ],
      "metadata": {
        "colab": {
          "base_uri": "https://localhost:8080/"
        },
        "id": "h_236MeGihyw",
        "outputId": "87b44284-07bb-4d6c-c05d-0dfeca4fa873"
      },
      "execution_count": 27,
      "outputs": [
        {
          "output_type": "stream",
          "name": "stdout",
          "text": [
            "0.939846333997604\n",
            "0.8247503123313558\n"
          ]
        }
      ]
    },
    {
      "cell_type": "markdown",
      "source": [
        "train set 점수, test set 점수 전반적으로 낮은 점수  \n",
        "그래프 왼쪽 아래를 보면 선형 회귀가 만든 직선이 왼쪽 아래로 쭉 뻗어 있다.  \n",
        "(직선대로라면 농어의 무게가 0g 이하로 내려갈텐데 현실에선 있을 수 없는 일)  \n",
        "⇒ 과소적합"
      ],
      "metadata": {
        "id": "fQsAx-CjjGn5"
      }
    },
    {
      "cell_type": "markdown",
      "source": [
        "## 3. 다항 회귀(polynomial regression) \n",
        "다항식을 사용한 선형 회귀\n",
        "\n"
      ],
      "metadata": {
        "id": "0alNuoJ-jAdK"
      }
    },
    {
      "cell_type": "markdown",
      "source": [
        "농어의 길이와 무게에 대한 산점도를 자세히 보면 일직선이라기보단 곡선에 가깝니다.  \n",
        "**2차 방정식의 그래프**를 그리려면 **제곱한 항**이 **train set에 추가**되어야 한다.  \n",
        "- **column_stack()** 함수  \n",
        "2차 방정식 그래프 그리기위해 농어의 길이를 제곱해서 **원래 데이터 앞에 붙인다.**"
      ],
      "metadata": {
        "id": "H25mFY1zkAow"
      }
    },
    {
      "cell_type": "code",
      "source": [
        "# train_input 제곱한 것과 train_input 두 배열을 나란히 붙인다.\n",
        "train_poly = np.column_stack((train_input ** 2, train_input))\n",
        "test_poly = np.column_stack((test_input ** 2, test_input))"
      ],
      "metadata": {
        "id": "2WruG8ypi6rM"
      },
      "execution_count": 28,
      "outputs": []
    },
    {
      "cell_type": "code",
      "source": [
        "# 데이터셋의 크기 확인\n",
        "print(train_poly.shape, test_poly.shape)"
      ],
      "metadata": {
        "colab": {
          "base_uri": "https://localhost:8080/"
        },
        "id": "cq-pJkmBkxik",
        "outputId": "b81e943f-16e5-48b3-a595-065e4b518c2d"
      },
      "execution_count": 29,
      "outputs": [
        {
          "output_type": "stream",
          "name": "stdout",
          "text": [
            "(42, 2) (14, 2)\n"
          ]
        }
      ]
    },
    {
      "cell_type": "markdown",
      "source": [
        "원래 특성인 길이를 제곱하여 왼쪽 열에 추가했기 때문에 train set과 test set 모두 열이 2개로 늘어났다."
      ],
      "metadata": {
        "id": "7fg_wLY_k9BT"
      }
    },
    {
      "cell_type": "markdown",
      "source": [
        "2차 방정식 그래프를 찾기 위해 train set에 제곱 항을 추가  \n",
        "※ 타깃 값은 그대로 사용!"
      ],
      "metadata": {
        "id": "AuDJVWl_lUDV"
      }
    },
    {
      "cell_type": "code",
      "source": [
        "lr = LinearRegression()\n",
        "lr.fit(train_poly, train_target)\n",
        "\n",
        "print(lr.predict([[50**2, 50]]))"
      ],
      "metadata": {
        "colab": {
          "base_uri": "https://localhost:8080/"
        },
        "id": "s7TXS_uWk7kf",
        "outputId": "8399a51c-f0a3-416d-a5f5-d7c0ee328f13"
      },
      "execution_count": 30,
      "outputs": [
        {
          "output_type": "stream",
          "name": "stdout",
          "text": [
            "[1573.98423528]\n"
          ]
        }
      ]
    },
    {
      "cell_type": "code",
      "source": [
        "# 모델이 훈련한 계수와 절편 출력\n",
        "print(lr.coef_, lr.intercept_)"
      ],
      "metadata": {
        "colab": {
          "base_uri": "https://localhost:8080/"
        },
        "id": "jLJkW4QXlkG-",
        "outputId": "31986d99-d218-480d-8a98-6fb5abc6a7b8"
      },
      "execution_count": 31,
      "outputs": [
        {
          "output_type": "stream",
          "name": "stdout",
          "text": [
            "[  1.01433211 -21.55792498] 116.0502107827827\n"
          ]
        }
      ]
    },
    {
      "cell_type": "markdown",
      "source": [
        "이 모델은 다음과 같은 그래프를 학습했다.  \n",
        "무게 = 1.01 x 길이^2 - 21.6 x 길이 + 116.05  \n",
        "\n",
        "⁕ \"길이^2\"가 있다고 해서 비선형인가?  \n",
        "길이^2를 다른 변수로 치환(길이^2=왕길이)해서 본다면 무게는 왕길이와 길이의 선형 관계로 표현할 수 있다."
      ],
      "metadata": {
        "id": "qPLce9XolvEg"
      }
    },
    {
      "cell_type": "code",
      "source": [
        "# 구간별 직선을 그리기 위해 15에서 49까지 정수 배열을 만든다.\n",
        "point = np.arange(15, 50)\n",
        "\n",
        "# 훈련 세트의 산점도를 그린다.\n",
        "plt.scatter(train_input, train_target)\n",
        "\n",
        "# 15에서 49까지 2차 방정식 그래프를 그린다.\n",
        "plt.plot(point, 1.01*point**2 - 21.6*point + 116.05)\n",
        "\n",
        "# 50cm 농어 데이터\n",
        "plt.scatter([50], [1574], marker='^')\n",
        "plt.show()"
      ],
      "metadata": {
        "colab": {
          "base_uri": "https://localhost:8080/",
          "height": 265
        },
        "id": "BdhLf00elsLy",
        "outputId": "097a68c7-e1c4-4871-e546-b8810f558226"
      },
      "execution_count": 32,
      "outputs": [
        {
          "output_type": "display_data",
          "data": {
            "text/plain": [
              "<Figure size 432x288 with 1 Axes>"
            ],
            "image/png": "[encoded data removed]"
          },
          "metadata": {
            "needs_background": "light"
          }
        }
      ]
    },
    {
      "cell_type": "code",
      "source": [
        "# train set과 test set의 R^2 점수 평가\n",
        "print(lr.score(train_poly, train_target))\n",
        "print(lr.score(test_poly, test_target))"
      ],
      "metadata": {
        "colab": {
          "base_uri": "https://localhost:8080/"
        },
        "id": "k-qL6uYMm44s",
        "outputId": "2de0caa7-2d64-4226-d7d2-a9fe6b0a5e7d"
      },
      "execution_count": 33,
      "outputs": [
        {
          "output_type": "stream",
          "name": "stdout",
          "text": [
            "0.9706807451768623\n",
            "0.9775935108325122\n"
          ]
        }
      ]
    },
    {
      "cell_type": "markdown",
      "source": [
        "전반적으로 점수가 높아졌지만 여전히 test set > train set  \n",
        "⇒ 과소적합 문제 미해결"
      ],
      "metadata": {
        "id": "JtSNhPbpnHp8"
      }
    }
  ]
}