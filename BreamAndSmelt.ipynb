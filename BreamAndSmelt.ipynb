{
  "nbformat": 4,
  "nbformat_minor": 0,
  "metadata": {
    "colab": {
      "provenance": [],
      "toc_visible": true,
      "authorship_tag": "ABX9TyO+bcl1NUEKrMcdlyy73aO3",
      "include_colab_link": true
    },
    "kernelspec": {
      "name": "python3",
      "display_name": "Python 3"
    },
    "language_info": {
      "name": "python"
    }
  },
  "cells": [
    {
      "cell_type": "markdown",
      "metadata": {
        "id": "view-in-github",
        "colab_type": "text"
      },
      "source": [
        "<a href=\"https://colab.research.google.com/github/blingkey/self-study_ML-DeepLearning/blob/main/BreamAndSmelt.ipynb\" target=\"_parent\"><img src=\"https://colab.research.google.com/assets/colab-badge.svg\" alt=\"Open In Colab\"/></a>"
      ]
    },
    {
      "cell_type": "markdown",
      "source": [
        "# A생선이 도미인지 아닌지 판별\n",
        "혼공머신 01-3 마켓과 머신러닝(p44-64)"
      ],
      "metadata": {
        "id": "bBd-scswg-0s"
      }
    },
    {
      "cell_type": "markdown",
      "source": [
        "## 1) 각 도미의 특징을 길이와 무게로 표현하여 구분  \n",
        "- **특성(feature)** : 데이터의 특징  \n",
        "ex. 생선의 길이, 생선의 무게 등.."
      ],
      "metadata": {
        "id": "lRAGsNxsjZsf"
      }
    },
    {
      "cell_type": "code",
      "execution_count": 1,
      "metadata": {
        "id": "tG5St9EmYYMe"
      },
      "outputs": [],
      "source": [
        "# 도미의 특징\n",
        "# bream_length: 생선의 길이/ bream_weight: 생선의 무게\n",
        "bream_length = [25.4, 26.3, 26.5, 29.0, 29.0, 29.7, 29.7, 30.0, 30.0, 30.7, 31.0, 31.0, \n",
        "                31.5, 32.0, 32.0, 32.0, 33.0, 33.0, 33.5, 33.5, 34.0, 34.0, 34.5, 35.0, \n",
        "                35.0, 35.0, 35.0, 36.0, 36.0, 37.0, 38.5, 38.5, 39.5, 41.0, 41.0]\n",
        "bream_weight = [242.0, 290.0, 340.0, 363.0, 430.0, 450.0, 500.0, 390.0, 450.0, 500.0, 475.0, 500.0, \n",
        "                500.0, 340.0, 600.0, 600.0, 700.0, 700.0, 610.0, 650.0, 575.0, 685.0, 620.0, 680.0, \n",
        "                700.0, 725.0, 720.0, 714.0, 850.0, 1000.0, 920.0, 955.0, 925.0, 975.0, 950.0]"
      ]
    },
    {
      "cell_type": "markdown",
      "source": [
        "## 2) 두 특성을 숫자 → 그래프로 표현 (산점도scatter plot으로 표현)\n",
        "\n",
        "- **산점도(scatter plot)** : x, y축으로 이뤄진 좌표계에 두 변수(x, y)의 관계를 표현하는 방법  \n",
        "- **맷플롯립(matplotlib)** : 파이썬에서 과학계산용 그래프를 그리는 대표적인 패키지  \n",
        "- **임포트(import)** : 따로 만들어둔 파이썬 패키지(함수 묶음)을 사용하기 위해 불러오는 명령"
      ],
      "metadata": {
        "id": "xkx-B9HXgzgA"
      }
    },
    {
      "cell_type": "code",
      "source": [
        "import matplotlib.pyplot as plt\n",
        "\n",
        "plt.scatter(bream_length, bream_weight)\n",
        "plt.xlabel('length') # x축은 길이\n",
        "plt.ylabel('weight') # y축은 무게\n",
        "plt.show()"
      ],
      "metadata": {
        "colab": {
          "base_uri": "https://localhost:8080/",
          "height": 279
        },
        "id": "Ix0ThELkgiOo",
        "outputId": "e344e9fb-8c67-4075-d26c-cdcd95d09538"
      },
      "execution_count": 2,
      "outputs": [
        {
          "output_type": "display_data",
          "data": {
            "text/plain": [
              "<Figure size 432x288 with 1 Axes>"
            ],
            "image/png": "[encoded data removed]"
          },
          "metadata": {
            "needs_background": "light"
          }
        }
      ]
    },
    {
      "cell_type": "markdown",
      "source": [
        "산점도의 그래프가 일직선에 가까운 형태로 나타나는 경우를 **선형(linear)적**이라고 함"
      ],
      "metadata": {
        "id": "M2LZ5C3xhxKG"
      }
    },
    {
      "cell_type": "code",
      "source": [
        "# 빙어의 특징\n",
        "smelt_length = [9.8, 10.5, 10.6, 11.0, 11.2, 11.3, 11.8, 11.8, 12.0, 12.2, 12.4, 13.0, 14.3, 15.0]\n",
        "smelt_weight = [6.7, 7.5, 7.0, 9.7, 9.8, 8.7, 10.0, 9.9, 9.8, 12.2, 13.4, 12.2, 19.7, 19.9]"
      ],
      "metadata": {
        "id": "3s71aNeJh3qp"
      },
      "execution_count": 3,
      "outputs": []
    },
    {
      "cell_type": "code",
      "source": [
        "# 파이썬에서 한 번 import된 패키지는 그 파일 안에서는 다시 import 하지 않아도 됨\n",
        "# 하지만, 코랩에서 구글 클라우드와 연결이 끊긴 후 다시 연결하면 패키지를 새로 import해야 됨\n",
        "plt.scatter(bream_length, bream_weight) # 도미 데이터(파랑)\n",
        "plt.scatter(smelt_length, smelt_weight) # 빙어 데이터(주황)\n",
        "plt.xlabel('length')\n",
        "plt.ylabel('weigth')\n",
        "plt.show()"
      ],
      "metadata": {
        "colab": {
          "base_uri": "https://localhost:8080/",
          "height": 279
        },
        "id": "3CKWULZ7iGk7",
        "outputId": "2e186cb8-899c-425f-e239-23be80708c17"
      },
      "execution_count": 4,
      "outputs": [
        {
          "output_type": "display_data",
          "data": {
            "text/plain": [
              "<Figure size 432x288 with 1 Axes>"
            ],
            "image/png": "[encoded data removed]"
          },
          "metadata": {
            "needs_background": "light"
          }
        }
      ]
    },
    {
      "cell_type": "markdown",
      "source": [
        "도미, 빙어 모두 길이와 무게가 비례하지만 늘어나는 정도가 다르다.  \n",
        "빙어는 길이가 늘어나더라도 무게가 많이 늘지 않는다.  \n",
        "⇒ 빙어의 산점도도 선형적이지만 무게가 길이에 영향을 덜 받는다.\n"
      ],
      "metadata": {
        "id": "2bvOBjpFjkpT"
      }
    },
    {
      "cell_type": "markdown",
      "source": [
        "# k-최근접 이웃(k-Nearest Neighbors) 알고리즘"
      ],
      "metadata": {
        "id": "j1TcsFQGjb77"
      }
    },
    {
      "cell_type": "markdown",
      "source": [
        "## 1-1. 데이터 준비"
      ],
      "metadata": {
        "id": "w7TZZfunk4A6"
      }
    },
    {
      "cell_type": "code",
      "source": [
        "# 도미와 빙어 데이터를 하나의 데이터로 합침\n",
        "length = bream_length + smelt_length\n",
        "weight = bream_weight + smelt_weight"
      ],
      "metadata": {
        "id": "CWucdrS3iVem"
      },
      "execution_count": 5,
      "outputs": []
    },
    {
      "cell_type": "markdown",
      "source": [
        "**사이킷런(scikit-learn)**을 사용하기 위해 각 특성의 리스트를 **세로 방향의 2차원 리스트로 변형**\n",
        "\n",
        "① **zip()** : 나열된 리스트 각각에서 하나씩 원소를 꺼내 반환\n",
        "\n",
        "② 리스트 내포 구문 사용"
      ],
      "metadata": {
        "id": "zubF84vekNm4"
      }
    },
    {
      "cell_type": "code",
      "source": [
        "# zip()을 이용해 나열된 리스트에서 (길이, 무게) 각각에서 하나씩 원소를 꺼내\n",
        "# [[l, w]] 2차원 리스트로 만든다.\n",
        "fish_data = [[l, w] for l, w in zip(length, weight)]"
      ],
      "metadata": {
        "id": "gwV6NCDNj1NY"
      },
      "execution_count": 6,
      "outputs": []
    },
    {
      "cell_type": "code",
      "source": [
        "print(fish_data)"
      ],
      "metadata": {
        "colab": {
          "base_uri": "https://localhost:8080/"
        },
        "id": "tcCjdhr-kl5b",
        "outputId": "fce8037c-6126-4f7f-fe48-0c98069f3586"
      },
      "execution_count": 7,
      "outputs": [
        {
          "output_type": "stream",
          "name": "stdout",
          "text": [
            "[[25.4, 242.0], [26.3, 290.0], [26.5, 340.0], [29.0, 363.0], [29.0, 430.0], [29.7, 450.0], [29.7, 500.0], [30.0, 390.0], [30.0, 450.0], [30.7, 500.0], [31.0, 475.0], [31.0, 500.0], [31.5, 500.0], [32.0, 340.0], [32.0, 600.0], [32.0, 600.0], [33.0, 700.0], [33.0, 700.0], [33.5, 610.0], [33.5, 650.0], [34.0, 575.0], [34.0, 685.0], [34.5, 620.0], [35.0, 680.0], [35.0, 700.0], [35.0, 725.0], [35.0, 720.0], [36.0, 714.0], [36.0, 850.0], [37.0, 1000.0], [38.5, 920.0], [38.5, 955.0], [39.5, 925.0], [41.0, 975.0], [41.0, 950.0], [9.8, 6.7], [10.5, 7.5], [10.6, 7.0], [11.0, 9.7], [11.2, 9.8], [11.3, 8.7], [11.8, 10.0], [11.8, 9.9], [12.0, 9.8], [12.2, 12.2], [12.4, 13.4], [13.0, 12.2], [14.3, 19.7], [15.0, 19.9]]\n"
          ]
        }
      ]
    },
    {
      "cell_type": "markdown",
      "source": [
        "## 1-2. 정답 데이터 준비\n",
        "\n",
        "앞서 도미와 방어를 순서대로 나열했고  \n",
        "\n",
        "도미와 빙어를 숫자 1과 0으로 표현한다면, 정답 리스트는 1이 35번, 0이 14번 등장"
      ],
      "metadata": {
        "id": "Bzs4LY6ilEwa"
      }
    },
    {
      "cell_type": "code",
      "source": [
        "fish_target = [1] * 35 + [0] * 14\n",
        "print(fish_target)"
      ],
      "metadata": {
        "colab": {
          "base_uri": "https://localhost:8080/"
        },
        "id": "Qz1JvKo7kxUV",
        "outputId": "35f9542f-6f2f-46a3-bf65-b7df4c73103b"
      },
      "execution_count": 8,
      "outputs": [
        {
          "output_type": "stream",
          "name": "stdout",
          "text": [
            "[1, 1, 1, 1, 1, 1, 1, 1, 1, 1, 1, 1, 1, 1, 1, 1, 1, 1, 1, 1, 1, 1, 1, 1, 1, 1, 1, 1, 1, 1, 1, 1, 1, 1, 1, 0, 0, 0, 0, 0, 0, 0, 0, 0, 0, 0, 0, 0, 0]\n"
          ]
        }
      ]
    },
    {
      "cell_type": "markdown",
      "source": [
        "※ 머신러닝에서는 2개를 구분하려는 경우, 찾으려는 대상을 1로 놓고 그 외에는 0으로 놓음"
      ],
      "metadata": {
        "id": "PYhhnukYloaE"
      }
    },
    {
      "cell_type": "markdown",
      "source": [
        "### KNeighborsClassifier  \n",
        "scikit-learn 패키지에서 k-Nearest Neighbors 알고리즘을 구현한 클래스인 KNeighborsClassifier"
      ],
      "metadata": {
        "id": "x--u_H80ZFQC"
      }
    },
    {
      "cell_type": "code",
      "source": [
        "# scikit-learn 패키지에서 k-Nearest Neighbors 알고리즘을 구현한 클래스인 KNeighborsClassifier를 import\n",
        "from sklearn.neighbors import KNeighborsClassifier"
      ],
      "metadata": {
        "id": "0ahnotiklks3"
      },
      "execution_count": 9,
      "outputs": []
    },
    {
      "cell_type": "markdown",
      "source": [
        "파이썬에서 패키지나 모듈 전체를 임포트하지 않고 **특정 클래스를 import**하려는 경우 **from ~ import** 구문 사용  \n",
        "\n",
        "```\n",
        "import sklearn\n",
        "model = sklearn.neighbors.KNeighborsClassifier()\n",
        "```\n",
        "\n"
      ],
      "metadata": {
        "id": "qMeKXUb-mOVz"
      }
    },
    {
      "cell_type": "code",
      "source": [
        "# import한 KNeighborsClassifier 클래스의 객체를 먼저 생성\n",
        "kn = KNeighborsClassifier()"
      ],
      "metadata": {
        "id": "xCH7gTmOmGdT"
      },
      "execution_count": 10,
      "outputs": []
    },
    {
      "cell_type": "markdown",
      "source": [
        "## 2. 훈련(training)\n",
        "모델에 데이터를 전달하여 규칙을 학습하는 과정\n",
        "\n",
        "→ fish_data와 fish_target을 전달하여 도미를 찾기 위한 **기준**을 학습"
      ],
      "metadata": {
        "id": "TA4zaE0ymytP"
      }
    },
    {
      "cell_type": "markdown",
      "source": [
        "- **fit(입력, 타깃)**  \n",
        "fit() 메서드는 주어진 데이터로 알고리즘을 훈련시킨 뒤 **훈련**\n",
        "```\n",
        "history = model.fit(\n",
        "    inputs, # 입력 샘플(넘파이 배열)\n",
        "    targets, # 훈련 타깃(넘파이 배열)\n",
        "    epochs=5, # 훈련 루프를 다섯 번 반복\n",
        "    batch_size=128 # 128개의 샘플 배치로 이 데이터를 순회\n",
        ")\n",
        "```"
      ],
      "metadata": {
        "id": "Ql4NJWZnaRLG"
      }
    },
    {
      "cell_type": "code",
      "source": [
        "# fit()에서 fish_data로 리스트의 리스트를 전달, fish_target도 리스트\n",
        "kn.fit(fish_data, fish_target)"
      ],
      "metadata": {
        "colab": {
          "base_uri": "https://localhost:8080/"
        },
        "id": "a0n3INBAmvwU",
        "outputId": "1511767b-9834-4efe-8772-0f8cd41bcb1f"
      },
      "execution_count": 11,
      "outputs": [
        {
          "output_type": "execute_result",
          "data": {
            "text/plain": [
              "KNeighborsClassifier()"
            ]
          },
          "metadata": {},
          "execution_count": 11
        }
      ]
    },
    {
      "cell_type": "markdown",
      "source": [
        "## 3. 평가"
      ],
      "metadata": {
        "id": "OZbU43WynvnO"
      }
    },
    {
      "cell_type": "markdown",
      "source": [
        "- **score() 메서드**  \n",
        " 사이킷런에서 모델을 **평가**하는 메서드  \n",
        " **정확도(accuracy)**로 **0에서 1** 사이의 값을 반환  \n",
        " (1은 모든 데이터를 정확하게 맞혔다는 것을 의미)"
      ],
      "metadata": {
        "id": "KyABvxi2cRTV"
      }
    },
    {
      "cell_type": "code",
      "source": [
        "# score() 메서드\n",
        "kn.score(fish_data, fish_target)"
      ],
      "metadata": {
        "colab": {
          "base_uri": "https://localhost:8080/"
        },
        "id": "iPA2zCZenbbd",
        "outputId": "b34b24f3-1fb5-4212-a71d-00b9de1eaba5"
      },
      "execution_count": 12,
      "outputs": [
        {
          "output_type": "execute_result",
          "data": {
            "text/plain": [
              "1.0"
            ]
          },
          "metadata": {},
          "execution_count": 12
        }
      ]
    },
    {
      "cell_type": "code",
      "source": [
        "plt.scatter(bream_length, bream_weight) # 도미 데이터\n",
        "plt.scatter(smelt_length, smelt_weight) # 빙어 데이터\n",
        "plt.scatter(30, 600, marker='^') # 새로운 데이터\n",
        "plt.xlabel('length')\n",
        "plt.ylabel('weight')\n",
        "plt.show()"
      ],
      "metadata": {
        "colab": {
          "base_uri": "https://localhost:8080/",
          "height": 279
        },
        "id": "ebhForOcrAZU",
        "outputId": "6d2b75f4-74c7-4355-9fcc-a7d643f6e84c"
      },
      "execution_count": 13,
      "outputs": [
        {
          "output_type": "display_data",
          "data": {
            "text/plain": [
              "<Figure size 432x288 with 1 Axes>"
            ],
            "image/png": "[encoded data removed]"
          },
          "metadata": {
            "needs_background": "light"
          }
        }
      ]
    },
    {
      "cell_type": "markdown",
      "source": [
        "- **predict() 메서드**  \n",
        "새로운 데이터의 정답을 예측  "
      ],
      "metadata": {
        "id": "gEeu3ryXk-Ei"
      }
    },
    {
      "cell_type": "code",
      "source": [
        "# fit() 메서드와 마찬가지로 리스트의 리스트를 전달해야되므로 리스트로 2번 감쌈\n",
        "kn.predict([[30, 600]])"
      ],
      "metadata": {
        "colab": {
          "base_uri": "https://localhost:8080/"
        },
        "id": "pC_hsJXkoQhW",
        "outputId": "14798a9e-ed85-4914-bf0f-71ac9530b71f"
      },
      "execution_count": 23,
      "outputs": [
        {
          "output_type": "execute_result",
          "data": {
            "text/plain": [
              "array([1])"
            ]
          },
          "metadata": {},
          "execution_count": 23
        }
      ]
    },
    {
      "cell_type": "markdown",
      "source": [
        "**k-Nearest Neighbors 알고리즘**\n",
        "\n",
        "- 새로운 데이터에 대해 예측할 때는 가장 가까운 직선거리에 어떤 데이터가 있는지를 살피기만 하면 됨\n",
        "- 단점 : 데이터가 아주 많은 경우 사용하기 어려움/ 데이터가 크기 때문에 메모리가 많이 필요, 직선거리를 계산하는 데도 많은 시간이 필요"
      ],
      "metadata": {
        "id": "GKguDH9NorQb"
      }
    },
    {
      "cell_type": "code",
      "source": [
        "print(fish_data)"
      ],
      "metadata": {
        "colab": {
          "base_uri": "https://localhost:8080/"
        },
        "id": "RItf5mrHl2d3",
        "outputId": "83abf5d6-d276-4d61-d781-77ee0e09323e"
      },
      "execution_count": 26,
      "outputs": [
        {
          "output_type": "stream",
          "name": "stdout",
          "text": [
            "[[25.4, 242.0], [26.3, 290.0], [26.5, 340.0], [29.0, 363.0], [29.0, 430.0], [29.7, 450.0], [29.7, 500.0], [30.0, 390.0], [30.0, 450.0], [30.7, 500.0], [31.0, 475.0], [31.0, 500.0], [31.5, 500.0], [32.0, 340.0], [32.0, 600.0], [32.0, 600.0], [33.0, 700.0], [33.0, 700.0], [33.5, 610.0], [33.5, 650.0], [34.0, 575.0], [34.0, 685.0], [34.5, 620.0], [35.0, 680.0], [35.0, 700.0], [35.0, 725.0], [35.0, 720.0], [36.0, 714.0], [36.0, 850.0], [37.0, 1000.0], [38.5, 920.0], [38.5, 955.0], [39.5, 925.0], [41.0, 975.0], [41.0, 950.0], [9.8, 6.7], [10.5, 7.5], [10.6, 7.0], [11.0, 9.7], [11.2, 9.8], [11.3, 8.7], [11.8, 10.0], [11.8, 9.9], [12.0, 9.8], [12.2, 12.2], [12.4, 13.4], [13.0, 12.2], [14.3, 19.7], [15.0, 19.9]]\n"
          ]
        }
      ]
    },
    {
      "cell_type": "code",
      "source": [
        "# 사이킷런의 KNeighborsClassifier클래스는 _fit_X 속성에 fish_data를 가짐\n",
        "print(kn._fit_X)"
      ],
      "metadata": {
        "colab": {
          "base_uri": "https://localhost:8080/"
        },
        "id": "Fn1G92ILoao7",
        "outputId": "946bda5f-6764-4674-c1be-f0b093769158"
      },
      "execution_count": 24,
      "outputs": [
        {
          "output_type": "stream",
          "name": "stdout",
          "text": [
            "[[  25.4  242. ]\n",
            " [  26.3  290. ]\n",
            " [  26.5  340. ]\n",
            " [  29.   363. ]\n",
            " [  29.   430. ]\n",
            " [  29.7  450. ]\n",
            " [  29.7  500. ]\n",
            " [  30.   390. ]\n",
            " [  30.   450. ]\n",
            " [  30.7  500. ]\n",
            " [  31.   475. ]\n",
            " [  31.   500. ]\n",
            " [  31.5  500. ]\n",
            " [  32.   340. ]\n",
            " [  32.   600. ]\n",
            " [  32.   600. ]\n",
            " [  33.   700. ]\n",
            " [  33.   700. ]\n",
            " [  33.5  610. ]\n",
            " [  33.5  650. ]\n",
            " [  34.   575. ]\n",
            " [  34.   685. ]\n",
            " [  34.5  620. ]\n",
            " [  35.   680. ]\n",
            " [  35.   700. ]\n",
            " [  35.   725. ]\n",
            " [  35.   720. ]\n",
            " [  36.   714. ]\n",
            " [  36.   850. ]\n",
            " [  37.  1000. ]\n",
            " [  38.5  920. ]\n",
            " [  38.5  955. ]\n",
            " [  39.5  925. ]\n",
            " [  41.   975. ]\n",
            " [  41.   950. ]\n",
            " [   9.8    6.7]\n",
            " [  10.5    7.5]\n",
            " [  10.6    7. ]\n",
            " [  11.     9.7]\n",
            " [  11.2    9.8]\n",
            " [  11.3    8.7]\n",
            " [  11.8   10. ]\n",
            " [  11.8    9.9]\n",
            " [  12.     9.8]\n",
            " [  12.2   12.2]\n",
            " [  12.4   13.4]\n",
            " [  13.    12.2]\n",
            " [  14.3   19.7]\n",
            " [  15.    19.9]]\n"
          ]
        }
      ]
    },
    {
      "cell_type": "code",
      "source": [
        "# 사이킷런의 KNeighborsClassifier클래스는 _y 속성에 fish_target을 가짐\n",
        "print(kn._y)"
      ],
      "metadata": {
        "colab": {
          "base_uri": "https://localhost:8080/"
        },
        "id": "OYGMY6sHpnXi",
        "outputId": "2ae99cf5-4926-4969-9a32-643570454e37"
      },
      "execution_count": 25,
      "outputs": [
        {
          "output_type": "stream",
          "name": "stdout",
          "text": [
            "[1 1 1 1 1 1 1 1 1 1 1 1 1 1 1 1 1 1 1 1 1 1 1 1 1 1 1 1 1 1 1 1 1 1 1 0 0\n",
            " 0 0 0 0 0 0 0 0 0 0 0 0]\n"
          ]
        }
      ]
    },
    {
      "cell_type": "markdown",
      "source": [
        "KNeighborsClassifier 알고리즘은 fit() 메서드에 전달한 데이터를 모두 저장하고 있다가\n",
        "\n",
        "새로운 데이터가 등장하면 가장 가까운 데이터를 참고하여 도미인지 빙어인지 구분"
      ],
      "metadata": {
        "id": "VtesctPDp7nQ"
      }
    },
    {
      "cell_type": "code",
      "source": [
        "# 참고하는 가까운 데이터는 기본 5개, 수정 가능\n",
        "kn49 = KNeighborsClassifier(n_neighbors=49) #참고 데이터를 49개로 한 kn49 모델"
      ],
      "metadata": {
        "id": "xLubPSTqpqBw"
      },
      "execution_count": null,
      "outputs": []
    },
    {
      "cell_type": "code",
      "source": [
        "# 가장 가까운 데이터 49개를 사용하는 k-최근접 이웃 모델에 fish_data를 적용\n",
        "# fish_data의 데이터 49개 중에 도미가 35개로 다수를 차지하므로 어떤 데이터를 넣어도 무조건 도미로 에측할 것\n",
        "kn49.fit(fish_data, fish_target)\n",
        "kn49.score(fish_data, fish_target)"
      ],
      "metadata": {
        "colab": {
          "base_uri": "https://localhost:8080/"
        },
        "id": "EU4dx5BdqcHO",
        "outputId": "991727b6-df7d-420d-e5ff-f0c443e47206"
      },
      "execution_count": null,
      "outputs": [
        {
          "output_type": "execute_result",
          "data": {
            "text/plain": [
              "0.7142857142857143"
            ]
          },
          "metadata": {},
          "execution_count": 28
        }
      ]
    },
    {
      "cell_type": "code",
      "source": [
        "print(35/49)"
      ],
      "metadata": {
        "colab": {
          "base_uri": "https://localhost:8080/"
        },
        "id": "YXnSEmh0qjtI",
        "outputId": "9967d997-1cbc-4047-d207-d7386e4b8dce"
      },
      "execution_count": null,
      "outputs": [
        {
          "output_type": "stream",
          "name": "stdout",
          "text": [
            "0.7142857142857143\n"
          ]
        }
      ]
    },
    {
      "cell_type": "markdown",
      "source": [
        "k=5 일 때의 모델 kn\n",
        "```\n",
        "kn.score(fish_data, fish_target)\n",
        "```\n",
        "의 값이 1.0 이었으므로 기본값을 5로한 모델이 도미를 완벽하게 분류"
      ],
      "metadata": {
        "id": "Tbe-ELEVnFYh"
      }
    }
  ]
}