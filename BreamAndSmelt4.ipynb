{
  "nbformat": 4,
  "nbformat_minor": 0,
  "metadata": {
    "colab": {
      "provenance": [],
      "authorship_tag": "ABX9TyMCpU+EjrBsn5hK4bJn78pN",
      "include_colab_link": true
    },
    "kernelspec": {
      "name": "python3",
      "display_name": "Python 3"
    },
    "language_info": {
      "name": "python"
    },
    "accelerator": "GPU",
    "gpuClass": "standard"
  },
  "cells": [
    {
      "cell_type": "markdown",
      "metadata": {
        "id": "view-in-github",
        "colab_type": "text"
      },
      "source": [
        "<a href=\"https://colab.research.google.com/github/blingkey/self-study_ML-DeepLearning/blob/main/BreamAndSmelt4_CH3_1.ipynb\" target=\"_parent\"><img src=\"https://colab.research.google.com/assets/colab-badge.svg\" alt=\"Open In Colab\"/></a>"
      ]
    },
    {
      "cell_type": "markdown",
      "source": [
        "# A생선이 도미인지 아닌지 판별\n",
        "혼공머신 03-1 k-최근접 이웃 회귀(p114-)"
      ],
      "metadata": {
        "id": "3VPJmyOykUvr"
      }
    },
    {
      "cell_type": "markdown",
      "source": [
        "미션 : 농어의 높이, 길이 등의 수치로 무게 예측하기!"
      ],
      "metadata": {
        "id": "6ruEx95O6KEU"
      }
    },
    {
      "cell_type": "markdown",
      "source": [
        "지도 학습 알고리즘은 **분류**와 **회귀**로 나뉜다.  \n",
        "- **분류** : 샘플을 몇 개의 **클래스 중 하나로 분류**하는 문제  \n",
        "- **회귀** : 임의의 어떤 숫자를 **예측**하는 문제  \n",
        "ex. 내년도 경제 성장률 예측, 배달 도착 시간 예측  \n",
        "> ### 농어의 무게 예측 (회귀)  \n",
        "⇒ **회귀**는 두 변수 사이의 상관관계를 분석하는 방법"
      ],
      "metadata": {
        "id": "0t3uXFJuoBjD"
      }
    },
    {
      "cell_type": "markdown",
      "source": [
        "## 1. 데이터 준비\n",
        "가정1) 농어의 **길이**만 있어도 무게를 잘 예측할 수 있다.  \n",
        "- 특성 : 농어의 길이  \n",
        "- 타깃 : 농의 무게"
      ],
      "metadata": {
        "id": "3kKzwIIsq2rm"
      }
    },
    {
      "cell_type": "code",
      "execution_count": 2,
      "metadata": {
        "id": "4vj5JLeOUENa"
      },
      "outputs": [],
      "source": [
        "import numpy as np\n",
        "\n",
        "perch_length = np.array([8.4, 13.7, 15.0, 16.2, 17.4, 18.0, 18.7, 19.0, 19.6, 20.0, 21.0,\n",
        "       21.0, 21.0, 21.3, 22.0, 22.0, 22.0, 22.0, 22.0, 22.5, 22.5, 22.7,\n",
        "       23.0, 23.5, 24.0, 24.0, 24.6, 25.0, 25.6, 26.5, 27.3, 27.5, 27.5,\n",
        "       27.5, 28.0, 28.7, 30.0, 32.8, 34.5, 35.0, 36.5, 36.0, 37.0, 37.0,\n",
        "       39.0, 39.0, 39.0, 40.0, 40.0, 40.0, 40.0, 42.0, 43.0, 43.0, 43.5,\n",
        "       44.0])\n",
        "perch_weight = np.array([5.9, 32.0, 40.0, 51.5, 70.0, 100.0, 78.0, 80.0, 85.0, 85.0, 110.0,\n",
        "       115.0, 125.0, 130.0, 120.0, 120.0, 130.0, 135.0, 110.0, 130.0,\n",
        "       150.0, 145.0, 150.0, 170.0, 225.0, 145.0, 188.0, 180.0, 197.0,\n",
        "       218.0, 300.0, 260.0, 265.0, 250.0, 250.0, 300.0, 320.0, 514.0,\n",
        "       556.0, 840.0, 685.0, 700.0, 700.0, 690.0, 900.0, 650.0, 820.0,\n",
        "       850.0, 900.0, 1015.0, 820.0, 1100.0, 1000.0, 1100.0, 1000.0,\n",
        "       1000.0])"
      ]
    },
    {
      "cell_type": "code",
      "source": [
        "# 위의 데이터가 어떤 형태를 가지고 있는지 확인하기 위해 산점도로 나타내기\n",
        "# 하나의 특성을 사용하므로 특성 데이터를 x축, 타깃 데이터를 y축에 둔다.\n",
        "\n",
        "import matplotlib.pyplot as plt\n",
        "plt.scatter(perch_length, perch_weight)\n",
        "plt.xlabel('length')\n",
        "plt.ylabel('weight')\n",
        "plt.show()"
      ],
      "metadata": {
        "id": "1NyCirGlrP9l",
        "colab": {
          "base_uri": "https://localhost:8080/",
          "height": 279
        },
        "outputId": "fad95d53-6cfe-4b29-96b4-bb8d0fbec720"
      },
      "execution_count": 3,
      "outputs": [
        {
          "output_type": "display_data",
          "data": {
            "text/plain": [
              "<Figure size 432x288 with 1 Axes>"
            ],
            "image/png": "[encoded data removed]"
          },
          "metadata": {
            "needs_background": "light"
          }
        }
      ]
    },
    {
      "cell_type": "markdown",
      "source": [
        "농어의 길이(x축)가 커짐에 따라 무게(y축)도 늘어남"
      ],
      "metadata": {
        "id": "qu9L-6_0r4Ic"
      }
    },
    {
      "cell_type": "code",
      "source": [
        "# 데이터를 머신러닝 모델에 사용하기 전 train set, test set으로 나눈다.\n",
        "\n",
        "from sklearn.model_selection import train_test_split\n",
        "train_input, test_input, train_target, test_target = train_test_split(\n",
        "    perch_length, perch_weight, random_state=42)"
      ],
      "metadata": {
        "id": "KiwBe9lFr1ZW"
      },
      "execution_count": 4,
      "outputs": []
    },
    {
      "cell_type": "markdown",
      "source": [
        "사이킷런의 train_test_split() 함수를 사용해 train set과 test set로 나눈다.  \n",
        "random_state=42로 지정해두고 확인"
      ],
      "metadata": {
        "id": "0Zaj3GwdsjwQ"
      }
    },
    {
      "cell_type": "markdown",
      "source": [
        "- 사이킷런에 사용할 train set는 2차원 배열  \n",
        "perch_length가 1차원 배열이므로 이를 나눈 train_input과 test_input도 1차원 배열  \n",
        "- 1차원 배열을 1개의 열이 있는 **2차원 배열로 변환**  \n",
        "▸ 1차원 배열  \n",
        "[1, 2, 3] → 크기: (3, )  \n",
        "▸ 2차원 배열    \n",
        "[[1],     \n",
        " [2],  \n",
        " [3]]     → 크기: (3 ,1)"
      ],
      "metadata": {
        "id": "DOQr9qPAs2LK"
      }
    },
    {
      "cell_type": "markdown",
      "source": [
        "### reshape() 메서드"
      ],
      "metadata": {
        "id": "1MQ2x3n8vJ4Z"
      }
    },
    {
      "cell_type": "code",
      "source": [
        "# 크기를 바꿀 수 있는 numpy 배열의 reshape() 메서드\n",
        "# (4, ) → (2, 2)\n",
        "test_array = np.array([1,2,3,4])\n",
        "print(test_array.shape)"
      ],
      "metadata": {
        "colab": {
          "base_uri": "https://localhost:8080/"
        },
        "id": "0z1xG0pNsXtp",
        "outputId": "392aaa89-4231-4933-da26-5b1283e2a755"
      },
      "execution_count": 5,
      "outputs": [
        {
          "output_type": "stream",
          "name": "stdout",
          "text": [
            "(4,)\n"
          ]
        }
      ]
    },
    {
      "cell_type": "code",
      "source": [
        "test_array =  test_array.reshape(2, 2)\n",
        "print(test_array.shape)"
      ],
      "metadata": {
        "colab": {
          "base_uri": "https://localhost:8080/"
        },
        "id": "LFB3KXI0uXxR",
        "outputId": "4ed92d55-817d-4ab1-8f2d-ab1fb7d0ec76"
      },
      "execution_count": 6,
      "outputs": [
        {
          "output_type": "stream",
          "name": "stdout",
          "text": [
            "(2, 2)\n"
          ]
        }
      ]
    },
    {
      "cell_type": "code",
      "source": [
        "print(test_array)"
      ],
      "metadata": {
        "colab": {
          "base_uri": "https://localhost:8080/"
        },
        "id": "RnOpdZn5vuco",
        "outputId": "9107e5f8-fe70-483a-dbe2-1a1aa7f7ea1e"
      },
      "execution_count": 8,
      "outputs": [
        {
          "output_type": "stream",
          "name": "stdout",
          "text": [
            "[[1 2]\n",
            " [3 4]]\n"
          ]
        }
      ]
    },
    {
      "cell_type": "markdown",
      "source": [
        "※ **reshape()** 메서드는 크기가 바뀐 새로운 배열을 반환할 때 **지정한 크기**가 **원본 배열에 있는 원소의 개수**가 **동일**해야 한다!  \n",
        "test_array = test_array.reshape(2 ,3)  \n",
        "⇒ ValueError: cannot reshape array of size 4 into shape (2,3)"
      ],
      "metadata": {
        "id": "ZLRUZWjDumFz"
      }
    },
    {
      "cell_type": "markdown",
      "source": [
        "**reshape(-1, 1)**를 사용하면 넘파이는 배열의 크기를 자동으로 지정  \n",
        "배열의 전체 원소 개수를 매번 외우지 않아도 된다!  "
      ],
      "metadata": {
        "id": "wpuXpWHowKig"
      }
    },
    {
      "cell_type": "code",
      "source": [
        "train_input = train_input.reshape(-1, 1)\n",
        "test_input = test_input.reshape(-1, 1)\n",
        "print(train_input.shape, test_input.shape)"
      ],
      "metadata": {
        "colab": {
          "base_uri": "https://localhost:8080/"
        },
        "id": "sTE1MvHCvANn",
        "outputId": "81e7c46c-f29d-416d-c47f-a3229d9d725f"
      },
      "execution_count": 9,
      "outputs": [
        {
          "output_type": "stream",
          "name": "stdout",
          "text": [
            "(42, 1) (14, 1)\n"
          ]
        }
      ]
    },
    {
      "cell_type": "markdown",
      "source": [
        "## 2. 결정계수(R^2)"
      ],
      "metadata": {
        "id": "1DUUbfw2wtju"
      }
    },
    {
      "cell_type": "code",
      "source": [
        "# KNeighborsRegressor : 사이킷런에서 k-최근접 이웃 회귀 알고리즘을 구현한 클래스\n",
        "# KNeighborsRegressor클래스를 사용하여 객체를 생성하고 fit() 메서드로 회귀모델 훈련\n",
        "\n",
        "from sklearn.neighbors import KNeighborsRegressor\n",
        "\n",
        "knr = KNeighborsRegressor()\n",
        "\n",
        "# k-최근접 이웃 회귀 모델을 훈련\n",
        "knr.fit(train_input, train_target)"
      ],
      "metadata": {
        "colab": {
          "base_uri": "https://localhost:8080/"
        },
        "id": "RE1PI0aFwGzH",
        "outputId": "60240a67-04a8-4c4a-d53b-6cac8b58b249"
      },
      "execution_count": 10,
      "outputs": [
        {
          "output_type": "execute_result",
          "data": {
            "text/plain": [
              "KNeighborsRegressor()"
            ]
          },
          "metadata": {},
          "execution_count": 10
        }
      ]
    },
    {
      "cell_type": "code",
      "source": [
        "# test set의 점수 확인\n",
        "print(knr.score(test_input, test_target))"
      ],
      "metadata": {
        "colab": {
          "base_uri": "https://localhost:8080/"
        },
        "id": "jMYqgvC0xRke",
        "outputId": "ca7f76a7-e493-4498-fde5-ca2dd2adf286"
      },
      "execution_count": 11,
      "outputs": [
        {
          "output_type": "stream",
          "name": "stdout",
          "text": [
            "0.992809406101064\n"
          ]
        }
      ]
    },
    {
      "cell_type": "markdown",
      "source": [
        "위의 test set 점수가 의미하는 것?  \n",
        "⇒ **결정계수(coefficient of determination)** 또는 **R^2**   \n",
        "⇒ R^2은 1에 가까울수록 good!\n",
        "\n",
        "- **결정계수** 계산 방식  \n",
        "![image.png](data:image/png;base64,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)  \n",
        "타깃의 평균 정도를 예측하는 수준이라면(= 분자와 분모가 비슷해져) R^2는 0에 가까워지고,  \n",
        "타깃이 예측에 아주 가까워지면(= 분모가 0에 가까워지기 때문에) 1에 가까운 값이 된다."
      ],
      "metadata": {
        "id": "B86iRcb_xZtQ"
      }
    },
    {
      "cell_type": "markdown",
      "source": [
        "사이킷런의 score() 메서드가 출력하는 값은 높을수록 good!  \n",
        "만약 score() 메서드가 에러율을 반환한다면 이를 음수로 만들어 실제로는 낮은 에러가 score() 메서드로 반환될 때는 높은 값이 되도록 바꾼다."
      ],
      "metadata": {
        "id": "_o4M7DIez0hn"
      }
    },
    {
      "cell_type": "markdown",
      "source": [
        "R^2 이외의 정량적인 평가를 통한 방법\n",
        "- ### mean_absolute_error  \n",
        "타깃과 예측의 절댓값 오차를 평균하여 반환"
      ],
      "metadata": {
        "id": "6SE0azkv0gzj"
      }
    },
    {
      "cell_type": "code",
      "source": [
        "from sklearn.metrics import mean_absolute_error\n",
        "\n",
        "# test set에 대한 예측 만들기\n",
        "test_prediction = knr.predict(test_input)\n",
        "\n",
        "# test set에 대한 평균 절댓값 오차 계산\n",
        "mae = mean_absolute_error(test_target, test_prediction)\n",
        "print(mae)"
      ],
      "metadata": {
        "colab": {
          "base_uri": "https://localhost:8080/"
        },
        "id": "ywOYH9uPxXsS",
        "outputId": "90b1961c-6429-4da6-daa1-ceba29327a6a"
      },
      "execution_count": 12,
      "outputs": [
        {
          "output_type": "stream",
          "name": "stdout",
          "text": [
            "19.157142857142862\n"
          ]
        }
      ]
    },
    {
      "cell_type": "markdown",
      "source": [
        "mean_absolute_error를 통해 결과에서 예측이 평균적으로 19g 정도 타깃값과 다르다는 것을 확인  "
      ],
      "metadata": {
        "id": "CTQ3mQ7G1Df9"
      }
    },
    {
      "cell_type": "markdown",
      "source": [
        "## 3. 과대적합 vs 과소적합"
      ],
      "metadata": {
        "id": "aodyNDLq1tB2"
      }
    },
    {
      "cell_type": "markdown",
      "source": [
        "### train set로 평가  \n",
        "score() 메서드에 train set을 전달하여 점수 출력  \n",
        "(지금까지는 train set으로 모델 훈련 후 test set으로 모델 평가)"
      ],
      "metadata": {
        "id": "VWUO5Enp1Rcd"
      }
    },
    {
      "cell_type": "code",
      "source": [
        "# 앞서 훈련한 모델을 사용한 train set의 R^2 점수\n",
        "print(knr.score(train_input, train_target))"
      ],
      "metadata": {
        "colab": {
          "base_uri": "https://localhost:8080/"
        },
        "id": "icOfJpgb1A4e",
        "outputId": "c44fa3b8-3950-4b9a-8e5b-caa488fc5678"
      },
      "execution_count": 13,
      "outputs": [
        {
          "output_type": "stream",
          "name": "stdout",
          "text": [
            "0.9698823289099254\n"
          ]
        }
      ]
    },
    {
      "cell_type": "markdown",
      "source": [
        "test set으로 평가 : 0.992809406101064  \n",
        "train set으로 평가 : 0.9698823289099254  \n",
        "\n",
        "test set 평가 > train set 평가  \n",
        "⇒ 과소적합"
      ],
      "metadata": {
        "id": "5EuEiysX3URL"
      }
    },
    {
      "cell_type": "markdown",
      "source": [
        "- **과대적합(overfitting)**  \n",
        "train set의 평가 점수가 굉장히 좋았는데 test set의 평가 점수가 굉장히 나쁜 경우  \n",
        "- **과소적합(underfitting)**  \n",
        "train set보다 test set의 점수가 높거나 두 점수가 모두 낮을 경우  \n",
        "(모델이 너무 단순하여 train test에 적절히 훈련되지 않은 경우)\n",
        "\n",
        "Q. 과소적합이 발생하는 이유?  \n",
        "A. train set과 test set의 크기가 매우 작은 경우  \n",
        "데이터가 작으면 test set이 train set의 특징을 따르지 못한다."
      ],
      "metadata": {
        "id": "BM4igOlz2VEd"
      }
    },
    {
      "cell_type": "markdown",
      "source": [
        "#### 과소적합을 해결하는 방법  \n",
        "→ 모델을 조금 더 복잡하게 만든다.  \n",
        "(train set에 더 잘 맞게 만들기!)  \n",
        "- k-최근접 이웃 알고리즘으로 모델을 복잡하게 만드는 방법  \n",
        "→ 이웃의 개수 k를 줄이기  \n",
        "이웃의 개수를 줄이면 train set에 있는 국지적인 패턴에 민감해지고,  \n",
        "이웃의 개수를 늘리면 데이터 전반에 있는 일반적인 패턴을 따른다."
      ],
      "metadata": {
        "id": "yxw6V0XY4IPF"
      }
    },
    {
      "cell_type": "code",
      "source": [
        "# 이웃의 개수를 3으로 낮추기\n",
        "knr.n_neighbors = 3\n",
        "\n",
        "# 모델을 다시 훈련\n",
        "knr.fit(train_input, train_target)\n",
        "print(knr.score(train_input, train_target))"
      ],
      "metadata": {
        "colab": {
          "base_uri": "https://localhost:8080/"
        },
        "id": "I0OYAGp_2CE6",
        "outputId": "6bd1562d-502c-4aac-d5af-d25639452d0a"
      },
      "execution_count": 14,
      "outputs": [
        {
          "output_type": "stream",
          "name": "stdout",
          "text": [
            "0.9804899950518966\n"
          ]
        }
      ]
    },
    {
      "cell_type": "code",
      "source": [
        "# test set의 평가점수\n",
        "print(knr.score(test_input, test_target))"
      ],
      "metadata": {
        "colab": {
          "base_uri": "https://localhost:8080/"
        },
        "id": "Jx5Kg--D2Gw-",
        "outputId": "e474f7fa-5158-4903-a078-c09ef8600e81"
      },
      "execution_count": 15,
      "outputs": [
        {
          "output_type": "stream",
          "name": "stdout",
          "text": [
            "0.9746459963987609\n"
          ]
        }
      ]
    },
    {
      "cell_type": "markdown",
      "source": [
        "train set의 점수 > test set의 점수  \n",
        "두 점수의 차이 크지 않음  \n",
        "\n",
        "회귀 모델 훈련 성공!!"
      ],
      "metadata": {
        "id": "RvXCjU2J5yZn"
      }
    }
  ]
}
